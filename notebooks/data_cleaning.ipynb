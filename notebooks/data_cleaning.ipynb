{
 "cells": [
  {
   "cell_type": "markdown",
   "metadata": {},
   "source": [
    "## Data cleaning & exploring"
   ]
  },
  {
   "cell_type": "code",
   "execution_count": 3,
   "metadata": {},
   "outputs": [
    {
     "output_type": "error",
     "ename": "ModuleNotFoundError",
     "evalue": "No module named 'pandas'",
     "traceback": [
      "\u001b[1;31m---------------------------------------------------------------------------\u001b[0m",
      "\u001b[1;31mModuleNotFoundError\u001b[0m                       Traceback (most recent call last)",
      "\u001b[1;32m<ipython-input-3-c1a2b8ed97bb>\u001b[0m in \u001b[0;36m<module>\u001b[1;34m\u001b[0m\n\u001b[0;32m      1\u001b[0m \u001b[1;32mimport\u001b[0m \u001b[0mjson\u001b[0m\u001b[1;33m\u001b[0m\u001b[1;33m\u001b[0m\u001b[0m\n\u001b[1;32m----> 2\u001b[1;33m \u001b[1;32mimport\u001b[0m \u001b[0mpandas\u001b[0m \u001b[1;32mas\u001b[0m \u001b[0mpd\u001b[0m\u001b[1;33m\u001b[0m\u001b[1;33m\u001b[0m\u001b[0m\n\u001b[0m",
      "\u001b[1;31mModuleNotFoundError\u001b[0m: No module named 'pandas'"
     ]
    }
   ],
   "source": [
    "import json\n",
    "import pandas as pd"
   ]
  },
  {
   "cell_type": "markdown",
   "metadata": {},
   "source": [
    "### San Francisco"
   ]
  },
  {
   "cell_type": "code",
   "execution_count": 9,
   "metadata": {},
   "outputs": [
    {
     "output_type": "execute_result",
     "data": {
      "text/plain": "               name                                           position\n0   Jennifer Hasche                     Head of Tech Recruiting - EMEA\n1    Nevada Griffin  Strategic Partnerships Lead - Uber Health at U...\n2        Rachel Liu                                   Analytics @ Uber\n3  Tanmay Binaykiya                       Software Engineer II at Uber\n4      Anthony Dang                 Senior Corporate Recruiter at Uber",
      "text/html": "<div>\n<style scoped>\n    .dataframe tbody tr th:only-of-type {\n        vertical-align: middle;\n    }\n\n    .dataframe tbody tr th {\n        vertical-align: top;\n    }\n\n    .dataframe thead th {\n        text-align: right;\n    }\n</style>\n<table border=\"1\" class=\"dataframe\">\n  <thead>\n    <tr style=\"text-align: right;\">\n      <th></th>\n      <th>name</th>\n      <th>position</th>\n    </tr>\n  </thead>\n  <tbody>\n    <tr>\n      <th>0</th>\n      <td>Jennifer Hasche</td>\n      <td>Head of Tech Recruiting - EMEA</td>\n    </tr>\n    <tr>\n      <th>1</th>\n      <td>Nevada Griffin</td>\n      <td>Strategic Partnerships Lead - Uber Health at U...</td>\n    </tr>\n    <tr>\n      <th>2</th>\n      <td>Rachel Liu</td>\n      <td>Analytics @ Uber</td>\n    </tr>\n    <tr>\n      <th>3</th>\n      <td>Tanmay Binaykiya</td>\n      <td>Software Engineer II at Uber</td>\n    </tr>\n    <tr>\n      <th>4</th>\n      <td>Anthony Dang</td>\n      <td>Senior Corporate Recruiter at Uber</td>\n    </tr>\n  </tbody>\n</table>\n</div>"
     },
     "metadata": {},
     "execution_count": 9
    }
   ],
   "source": [
    "df_sf = pd.read_json('data_raw/san_francisco.json', orient='records', encoding='utf-8')\n",
    "df_sf.head()"
   ]
  },
  {
   "cell_type": "code",
   "execution_count": 10,
   "metadata": {
    "pycharm": {
     "name": "#%%\n"
    }
   },
   "outputs": [
    {
     "output_type": "execute_result",
     "data": {
      "text/plain": "                   name                   position\ncount               940                        940\nunique              936                        680\ntop     LinkedIn Member  Software Engineer at Uber\nfreq                  5                         92",
      "text/html": "<div>\n<style scoped>\n    .dataframe tbody tr th:only-of-type {\n        vertical-align: middle;\n    }\n\n    .dataframe tbody tr th {\n        vertical-align: top;\n    }\n\n    .dataframe thead th {\n        text-align: right;\n    }\n</style>\n<table border=\"1\" class=\"dataframe\">\n  <thead>\n    <tr style=\"text-align: right;\">\n      <th></th>\n      <th>name</th>\n      <th>position</th>\n    </tr>\n  </thead>\n  <tbody>\n    <tr>\n      <th>count</th>\n      <td>940</td>\n      <td>940</td>\n    </tr>\n    <tr>\n      <th>unique</th>\n      <td>936</td>\n      <td>680</td>\n    </tr>\n    <tr>\n      <th>top</th>\n      <td>LinkedIn Member</td>\n      <td>Software Engineer at Uber</td>\n    </tr>\n    <tr>\n      <th>freq</th>\n      <td>5</td>\n      <td>92</td>\n    </tr>\n  </tbody>\n</table>\n</div>"
     },
     "metadata": {},
     "execution_count": 10
    }
   ],
   "source": [
    "df_sf.describe()"
   ]
  },
  {
   "cell_type": "code",
   "execution_count": 11,
   "metadata": {},
   "outputs": [
    {
     "output_type": "stream",
     "name": "stdout",
     "text": "Initial San Francisco employee count: 940\n"
    }
   ],
   "source": [
    "print(f'Initial San Francisco employee count: {len(df_sf)}')"
   ]
  },
  {
   "cell_type": "code",
   "execution_count": 12,
   "metadata": {},
   "outputs": [
    {
     "output_type": "execute_result",
     "data": {
      "text/plain": "                name                   position\n114  LinkedIn Member  Software Engineer at Uber\n801  LinkedIn Member  Software Engineer at Uber",
      "text/html": "<div>\n<style scoped>\n    .dataframe tbody tr th:only-of-type {\n        vertical-align: middle;\n    }\n\n    .dataframe tbody tr th {\n        vertical-align: top;\n    }\n\n    .dataframe thead th {\n        text-align: right;\n    }\n</style>\n<table border=\"1\" class=\"dataframe\">\n  <thead>\n    <tr style=\"text-align: right;\">\n      <th></th>\n      <th>name</th>\n      <th>position</th>\n    </tr>\n  </thead>\n  <tbody>\n    <tr>\n      <th>114</th>\n      <td>LinkedIn Member</td>\n      <td>Software Engineer at Uber</td>\n    </tr>\n    <tr>\n      <th>801</th>\n      <td>LinkedIn Member</td>\n      <td>Software Engineer at Uber</td>\n    </tr>\n  </tbody>\n</table>\n</div>"
     },
     "metadata": {},
     "execution_count": 12
    }
   ],
   "source": [
    "# Check for duplicates\n",
    "df_sf[df_sf.duplicated(keep=False)]"
   ]
  },
  {
   "cell_type": "code",
   "execution_count": 13,
   "metadata": {},
   "outputs": [
    {
     "output_type": "execute_result",
     "data": {
      "text/plain": "                name                                           position\n114  LinkedIn Member                          Software Engineer at Uber\n280  LinkedIn Member                       Sr Software Engineer at Uber\n617  LinkedIn Member                   Senior Software Engineer at Uber\n801  LinkedIn Member                          Software Engineer at Uber\n893  LinkedIn Member  Sr. Software Engineer, Reliability Engineering...",
      "text/html": "<div>\n<style scoped>\n    .dataframe tbody tr th:only-of-type {\n        vertical-align: middle;\n    }\n\n    .dataframe tbody tr th {\n        vertical-align: top;\n    }\n\n    .dataframe thead th {\n        text-align: right;\n    }\n</style>\n<table border=\"1\" class=\"dataframe\">\n  <thead>\n    <tr style=\"text-align: right;\">\n      <th></th>\n      <th>name</th>\n      <th>position</th>\n    </tr>\n  </thead>\n  <tbody>\n    <tr>\n      <th>114</th>\n      <td>LinkedIn Member</td>\n      <td>Software Engineer at Uber</td>\n    </tr>\n    <tr>\n      <th>280</th>\n      <td>LinkedIn Member</td>\n      <td>Sr Software Engineer at Uber</td>\n    </tr>\n    <tr>\n      <th>617</th>\n      <td>LinkedIn Member</td>\n      <td>Senior Software Engineer at Uber</td>\n    </tr>\n    <tr>\n      <th>801</th>\n      <td>LinkedIn Member</td>\n      <td>Software Engineer at Uber</td>\n    </tr>\n    <tr>\n      <th>893</th>\n      <td>LinkedIn Member</td>\n      <td>Sr. Software Engineer, Reliability Engineering...</td>\n    </tr>\n  </tbody>\n</table>\n</div>"
     },
     "metadata": {},
     "execution_count": 13
    }
   ],
   "source": [
    "df_sf[df_sf['name'] == 'LinkedIn Member']"
   ]
  },
  {
   "cell_type": "code",
   "execution_count": 14,
   "metadata": {},
   "outputs": [
    {
     "output_type": "execute_result",
     "data": {
      "text/plain": "False"
     },
     "metadata": {},
     "execution_count": 14
    }
   ],
   "source": [
    "# Remove LinkedIn Member as a name\n",
    "df_sf = df_sf[df_sf['name'] != 'LinkedIn Member']\n",
    "df_sf.name.str.contains('LinkedIn Member').any()"
   ]
  },
  {
   "cell_type": "code",
   "execution_count": 15,
   "metadata": {},
   "outputs": [
    {
     "output_type": "execute_result",
     "data": {
      "text/plain": "                                                    name         \\\n                                                   count unique   \nposition                                                          \n\"\"                                                     1      1   \nA creative at heart, processor at core, brewer ...     1      1   \nAI & Product Strategy | ex-Uber, Eats, Elevate         1      1   \nAI leader / Manager of Uber's Routing Engine & ...     1      1   \nAccount Executive at Uber                              1      1   \n...                                                  ...    ...   \niOS Engineer at Uber                                   1      1   \nincoming @uber / building cscareers.dev                1      1   \nsenior software engineer @Uber | ex data scient...     1      1   \nsoftware engineer                                      1      1   \nthaw                                                   1      1   \n\n                                                                               \n                                                                     top freq  \nposition                                                                       \n\"\"                                                        Harshit Mittal    1  \nA creative at heart, processor at core, brewer ...            Sean Lopez    1  \nAI & Product Strategy | ex-Uber, Eats, Elevate           Ryan Cunningham    1  \nAI leader / Manager of Uber's Routing Engine & ...         Vineet Khosla    1  \nAccount Executive at Uber                           Alexander Letvinchuk    1  \n...                                                                  ...  ...  \niOS Engineer at Uber                                        Xiaoxue Wang    1  \nincoming @uber / building cscareers.dev                       Joey Colon    1  \nsenior software engineer @Uber | ex data scient...             Larry Wei    1  \nsoftware engineer                                                Wei Sun    1  \nthaw                                                     Thomas Williams    1  \n\n[679 rows x 4 columns]",
      "text/html": "<div>\n<style scoped>\n    .dataframe tbody tr th:only-of-type {\n        vertical-align: middle;\n    }\n\n    .dataframe tbody tr th {\n        vertical-align: top;\n    }\n\n    .dataframe thead tr th {\n        text-align: left;\n    }\n\n    .dataframe thead tr:last-of-type th {\n        text-align: right;\n    }\n</style>\n<table border=\"1\" class=\"dataframe\">\n  <thead>\n    <tr>\n      <th></th>\n      <th colspan=\"4\" halign=\"left\">name</th>\n    </tr>\n    <tr>\n      <th></th>\n      <th>count</th>\n      <th>unique</th>\n      <th>top</th>\n      <th>freq</th>\n    </tr>\n    <tr>\n      <th>position</th>\n      <th></th>\n      <th></th>\n      <th></th>\n      <th></th>\n    </tr>\n  </thead>\n  <tbody>\n    <tr>\n      <th>\"\"</th>\n      <td>1</td>\n      <td>1</td>\n      <td>Harshit Mittal</td>\n      <td>1</td>\n    </tr>\n    <tr>\n      <th>A creative at heart, processor at core, brewer of imagination, plus a doer and more.</th>\n      <td>1</td>\n      <td>1</td>\n      <td>Sean Lopez</td>\n      <td>1</td>\n    </tr>\n    <tr>\n      <th>AI &amp; Product Strategy | ex-Uber, Eats, Elevate</th>\n      <td>1</td>\n      <td>1</td>\n      <td>Ryan Cunningham</td>\n      <td>1</td>\n    </tr>\n    <tr>\n      <th>AI leader / Manager of Uber's Routing Engine &amp; APIs / 1st 5 hires @ Siri / Ex Senior Manager SiriKit / Ex WWDC</th>\n      <td>1</td>\n      <td>1</td>\n      <td>Vineet Khosla</td>\n      <td>1</td>\n    </tr>\n    <tr>\n      <th>Account Executive at Uber</th>\n      <td>1</td>\n      <td>1</td>\n      <td>Alexander Letvinchuk</td>\n      <td>1</td>\n    </tr>\n    <tr>\n      <th>...</th>\n      <td>...</td>\n      <td>...</td>\n      <td>...</td>\n      <td>...</td>\n    </tr>\n    <tr>\n      <th>iOS Engineer at Uber</th>\n      <td>1</td>\n      <td>1</td>\n      <td>Xiaoxue Wang</td>\n      <td>1</td>\n    </tr>\n    <tr>\n      <th>incoming @uber / building cscareers.dev</th>\n      <td>1</td>\n      <td>1</td>\n      <td>Joey Colon</td>\n      <td>1</td>\n    </tr>\n    <tr>\n      <th>senior software engineer @Uber | ex data scientist @Uber @FB</th>\n      <td>1</td>\n      <td>1</td>\n      <td>Larry Wei</td>\n      <td>1</td>\n    </tr>\n    <tr>\n      <th>software engineer</th>\n      <td>1</td>\n      <td>1</td>\n      <td>Wei Sun</td>\n      <td>1</td>\n    </tr>\n    <tr>\n      <th>thaw</th>\n      <td>1</td>\n      <td>1</td>\n      <td>Thomas Williams</td>\n      <td>1</td>\n    </tr>\n  </tbody>\n</table>\n<p>679 rows × 4 columns</p>\n</div>"
     },
     "metadata": {},
     "execution_count": 15
    }
   ],
   "source": [
    "df_sf.groupby('position').describe()"
   ]
  },
  {
   "cell_type": "code",
   "execution_count": 16,
   "metadata": {},
   "outputs": [
    {
     "output_type": "execute_result",
     "data": {
      "text/plain": "                                                 count\nposition                                              \nSoftware Engineer at Uber                           90\nSenior Software Engineer at Uber                    52\nSoftware Engineer II at Uber                        19\nEngineering Manager at Uber                         13\nProduct Manager at Uber                             12\n...                                                ...\nHead of Engineering @ Uber Rides & Marketplace       1\nHead of Enterprise at Uber for Business              1\nHead of Financial Products, Uber Money               1\nHead of Global Marketing & Strategic Initiatives     1\nthaw                                                 1\n\n[679 rows x 1 columns]",
      "text/html": "<div>\n<style scoped>\n    .dataframe tbody tr th:only-of-type {\n        vertical-align: middle;\n    }\n\n    .dataframe tbody tr th {\n        vertical-align: top;\n    }\n\n    .dataframe thead th {\n        text-align: right;\n    }\n</style>\n<table border=\"1\" class=\"dataframe\">\n  <thead>\n    <tr style=\"text-align: right;\">\n      <th></th>\n      <th>count</th>\n    </tr>\n    <tr>\n      <th>position</th>\n      <th></th>\n    </tr>\n  </thead>\n  <tbody>\n    <tr>\n      <th>Software Engineer at Uber</th>\n      <td>90</td>\n    </tr>\n    <tr>\n      <th>Senior Software Engineer at Uber</th>\n      <td>52</td>\n    </tr>\n    <tr>\n      <th>Software Engineer II at Uber</th>\n      <td>19</td>\n    </tr>\n    <tr>\n      <th>Engineering Manager at Uber</th>\n      <td>13</td>\n    </tr>\n    <tr>\n      <th>Product Manager at Uber</th>\n      <td>12</td>\n    </tr>\n    <tr>\n      <th>...</th>\n      <td>...</td>\n    </tr>\n    <tr>\n      <th>Head of Engineering @ Uber Rides &amp; Marketplace</th>\n      <td>1</td>\n    </tr>\n    <tr>\n      <th>Head of Enterprise at Uber for Business</th>\n      <td>1</td>\n    </tr>\n    <tr>\n      <th>Head of Financial Products, Uber Money</th>\n      <td>1</td>\n    </tr>\n    <tr>\n      <th>Head of Global Marketing &amp; Strategic Initiatives</th>\n      <td>1</td>\n    </tr>\n    <tr>\n      <th>thaw</th>\n      <td>1</td>\n    </tr>\n  </tbody>\n</table>\n<p>679 rows × 1 columns</p>\n</div>"
     },
     "metadata": {},
     "execution_count": 16
    }
   ],
   "source": [
    "# Group positions to see the most common\n",
    "df_position = df_sf.groupby('position').describe()['name'].sort_values(by='count', ascending=False).iloc[:, :1]\n",
    "df_position"
   ]
  },
  {
   "cell_type": "code",
   "execution_count": 17,
   "metadata": {},
   "outputs": [
    {
     "output_type": "execute_result",
     "data": {
      "text/plain": "              name                   position\ncount          783                        783\nunique         783                        536\ntop     Zeyuan Tan  Software Engineer at Uber\nfreq             1                         90",
      "text/html": "<div>\n<style scoped>\n    .dataframe tbody tr th:only-of-type {\n        vertical-align: middle;\n    }\n\n    .dataframe tbody tr th {\n        vertical-align: top;\n    }\n\n    .dataframe thead th {\n        text-align: right;\n    }\n</style>\n<table border=\"1\" class=\"dataframe\">\n  <thead>\n    <tr style=\"text-align: right;\">\n      <th></th>\n      <th>name</th>\n      <th>position</th>\n    </tr>\n  </thead>\n  <tbody>\n    <tr>\n      <th>count</th>\n      <td>783</td>\n      <td>783</td>\n    </tr>\n    <tr>\n      <th>unique</th>\n      <td>783</td>\n      <td>536</td>\n    </tr>\n    <tr>\n      <th>top</th>\n      <td>Zeyuan Tan</td>\n      <td>Software Engineer at Uber</td>\n    </tr>\n    <tr>\n      <th>freq</th>\n      <td>1</td>\n      <td>90</td>\n    </tr>\n  </tbody>\n</table>\n</div>"
     },
     "metadata": {},
     "execution_count": 17
    }
   ],
   "source": [
    "# Removes all employees not currently working at Uber\n",
    "df_sf_uber = df_sf[df_sf['position'].str.contains('uber', case=False)]\n",
    "df_sf_uber.describe()"
   ]
  },
  {
   "cell_type": "code",
   "execution_count": 18,
   "metadata": {},
   "outputs": [
    {
     "output_type": "execute_result",
     "data": {
      "text/plain": "                 name                                           position\n12        Tolga Irdem  Actively seeking new opportunities | Ex-Uber &...\n154  Nathan Alan Dinh  Senior Mobile Marketing Lead - Rider/ Driver a...\n443     Reid Smiegiel  Senior Sales Operations Associate, Uber Freigh...\n618          Scott G.   Human Resources at Uber Freight and Uber Elevate",
      "text/html": "<div>\n<style scoped>\n    .dataframe tbody tr th:only-of-type {\n        vertical-align: middle;\n    }\n\n    .dataframe tbody tr th {\n        vertical-align: top;\n    }\n\n    .dataframe thead th {\n        text-align: right;\n    }\n</style>\n<table border=\"1\" class=\"dataframe\">\n  <thead>\n    <tr style=\"text-align: right;\">\n      <th></th>\n      <th>name</th>\n      <th>position</th>\n    </tr>\n  </thead>\n  <tbody>\n    <tr>\n      <th>12</th>\n      <td>Tolga Irdem</td>\n      <td>Actively seeking new opportunities | Ex-Uber &amp;...</td>\n    </tr>\n    <tr>\n      <th>154</th>\n      <td>Nathan Alan Dinh</td>\n      <td>Senior Mobile Marketing Lead - Rider/ Driver a...</td>\n    </tr>\n    <tr>\n      <th>443</th>\n      <td>Reid Smiegiel</td>\n      <td>Senior Sales Operations Associate, Uber Freigh...</td>\n    </tr>\n    <tr>\n      <th>618</th>\n      <td>Scott G.</td>\n      <td>Human Resources at Uber Freight and Uber Elevate</td>\n    </tr>\n  </tbody>\n</table>\n</div>"
     },
     "metadata": {},
     "execution_count": 18
    }
   ],
   "source": [
    "# Removes all employees working at other Uber services\n",
    "ignore = 'uber air | uberair | freight | elevate | ex-uber | driver'\n",
    "df_sf_uber[df_sf_uber['position'].str.contains(ignore, case=False)]"
   ]
  },
  {
   "cell_type": "code",
   "execution_count": 19,
   "metadata": {},
   "outputs": [
    {
     "output_type": "execute_result",
     "data": {
      "text/plain": "              name                   position\ncount          779                        779\nunique         779                        532\ntop     Zeyuan Tan  Software Engineer at Uber\nfreq             1                         90",
      "text/html": "<div>\n<style scoped>\n    .dataframe tbody tr th:only-of-type {\n        vertical-align: middle;\n    }\n\n    .dataframe tbody tr th {\n        vertical-align: top;\n    }\n\n    .dataframe thead th {\n        text-align: right;\n    }\n</style>\n<table border=\"1\" class=\"dataframe\">\n  <thead>\n    <tr style=\"text-align: right;\">\n      <th></th>\n      <th>name</th>\n      <th>position</th>\n    </tr>\n  </thead>\n  <tbody>\n    <tr>\n      <th>count</th>\n      <td>779</td>\n      <td>779</td>\n    </tr>\n    <tr>\n      <th>unique</th>\n      <td>779</td>\n      <td>532</td>\n    </tr>\n    <tr>\n      <th>top</th>\n      <td>Zeyuan Tan</td>\n      <td>Software Engineer at Uber</td>\n    </tr>\n    <tr>\n      <th>freq</th>\n      <td>1</td>\n      <td>90</td>\n    </tr>\n  </tbody>\n</table>\n</div>"
     },
     "metadata": {},
     "execution_count": 19
    }
   ],
   "source": [
    "df_sf_final = df_sf_uber[~df_sf_uber['position'].str.contains(ignore, case=False)]\n",
    "df_sf_final.describe()"
   ]
  },
  {
   "cell_type": "code",
   "execution_count": 20,
   "metadata": {},
   "outputs": [
    {
     "output_type": "stream",
     "name": "stdout",
     "text": "Final San Francisco employee count: 779\n"
    }
   ],
   "source": [
    "print(f'Final San Francisco employee count: {len(df_sf_final)}')"
   ]
  },
  {
   "cell_type": "markdown",
   "metadata": {},
   "source": [
    "## São Paulo"
   ]
  },
  {
   "cell_type": "code",
   "execution_count": 21,
   "metadata": {},
   "outputs": [
    {
     "output_type": "execute_result",
     "data": {
      "text/plain": "                         name                                        position\n0               Claudia Woods                  General Manager at Uber Brasil\n1               Ralph Weigand                Sales Manager, Uber for Business\n2                Rayana Peled         Sr Community Operations Manager at Uber\n3  Luiz Felipe da Costa Silva  Estagiario no Grupo Kobayashi Fintech & Cowork\n4            Ana Luiza Faraco                            Associate Consultant",
      "text/html": "<div>\n<style scoped>\n    .dataframe tbody tr th:only-of-type {\n        vertical-align: middle;\n    }\n\n    .dataframe tbody tr th {\n        vertical-align: top;\n    }\n\n    .dataframe thead th {\n        text-align: right;\n    }\n</style>\n<table border=\"1\" class=\"dataframe\">\n  <thead>\n    <tr style=\"text-align: right;\">\n      <th></th>\n      <th>name</th>\n      <th>position</th>\n    </tr>\n  </thead>\n  <tbody>\n    <tr>\n      <th>0</th>\n      <td>Claudia Woods</td>\n      <td>General Manager at Uber Brasil</td>\n    </tr>\n    <tr>\n      <th>1</th>\n      <td>Ralph Weigand</td>\n      <td>Sales Manager, Uber for Business</td>\n    </tr>\n    <tr>\n      <th>2</th>\n      <td>Rayana Peled</td>\n      <td>Sr Community Operations Manager at Uber</td>\n    </tr>\n    <tr>\n      <th>3</th>\n      <td>Luiz Felipe da Costa Silva</td>\n      <td>Estagiario no Grupo Kobayashi Fintech &amp; Cowork</td>\n    </tr>\n    <tr>\n      <th>4</th>\n      <td>Ana Luiza Faraco</td>\n      <td>Associate Consultant</td>\n    </tr>\n  </tbody>\n</table>\n</div>"
     },
     "metadata": {},
     "execution_count": 21
    }
   ],
   "source": [
    "df_sp = pd.read_json('data_raw/sao_paulo.json', orient='records', encoding='utf-8')\n",
    "df_sp.head()"
   ]
  },
  {
   "cell_type": "code",
   "execution_count": 22,
   "metadata": {},
   "outputs": [
    {
     "output_type": "execute_result",
     "data": {
      "text/plain": "                   name           position\ncount              1000               1000\nunique              986                861\ntop     LinkedIn Member  Motorista na Uber\nfreq                 12                 24",
      "text/html": "<div>\n<style scoped>\n    .dataframe tbody tr th:only-of-type {\n        vertical-align: middle;\n    }\n\n    .dataframe tbody tr th {\n        vertical-align: top;\n    }\n\n    .dataframe thead th {\n        text-align: right;\n    }\n</style>\n<table border=\"1\" class=\"dataframe\">\n  <thead>\n    <tr style=\"text-align: right;\">\n      <th></th>\n      <th>name</th>\n      <th>position</th>\n    </tr>\n  </thead>\n  <tbody>\n    <tr>\n      <th>count</th>\n      <td>1000</td>\n      <td>1000</td>\n    </tr>\n    <tr>\n      <th>unique</th>\n      <td>986</td>\n      <td>861</td>\n    </tr>\n    <tr>\n      <th>top</th>\n      <td>LinkedIn Member</td>\n      <td>Motorista na Uber</td>\n    </tr>\n    <tr>\n      <th>freq</th>\n      <td>12</td>\n      <td>24</td>\n    </tr>\n  </tbody>\n</table>\n</div>"
     },
     "metadata": {},
     "execution_count": 22
    }
   ],
   "source": [
    "df_sp.describe()"
   ]
  },
  {
   "cell_type": "code",
   "execution_count": 23,
   "metadata": {},
   "outputs": [
    {
     "output_type": "stream",
     "name": "stdout",
     "text": "Initial Sao Paulo employee count: 935\n"
    }
   ],
   "source": [
    "print(f'Initial Sao Paulo employee count: {len(df_sf)}')"
   ]
  },
  {
   "cell_type": "code",
   "execution_count": 24,
   "metadata": {},
   "outputs": [
    {
     "output_type": "execute_result",
     "data": {
      "text/plain": "                             name                            position\n199              Beatriz Hercules    Central Operations Intern | Uber\n200              Beatriz Hercules    Central Operations Intern | Uber\n519             Aline de Oliveira                   Chauffeur na Uber\n520             Aline de Oliveira                   Chauffeur na Uber\n759  Valdirene Alexandre da Silva  Analytics Security and Risk | Uber\n760  Valdirene Alexandre da Silva  Analytics Security and Risk | Uber",
      "text/html": "<div>\n<style scoped>\n    .dataframe tbody tr th:only-of-type {\n        vertical-align: middle;\n    }\n\n    .dataframe tbody tr th {\n        vertical-align: top;\n    }\n\n    .dataframe thead th {\n        text-align: right;\n    }\n</style>\n<table border=\"1\" class=\"dataframe\">\n  <thead>\n    <tr style=\"text-align: right;\">\n      <th></th>\n      <th>name</th>\n      <th>position</th>\n    </tr>\n  </thead>\n  <tbody>\n    <tr>\n      <th>199</th>\n      <td>Beatriz Hercules</td>\n      <td>Central Operations Intern | Uber</td>\n    </tr>\n    <tr>\n      <th>200</th>\n      <td>Beatriz Hercules</td>\n      <td>Central Operations Intern | Uber</td>\n    </tr>\n    <tr>\n      <th>519</th>\n      <td>Aline de Oliveira</td>\n      <td>Chauffeur na Uber</td>\n    </tr>\n    <tr>\n      <th>520</th>\n      <td>Aline de Oliveira</td>\n      <td>Chauffeur na Uber</td>\n    </tr>\n    <tr>\n      <th>759</th>\n      <td>Valdirene Alexandre da Silva</td>\n      <td>Analytics Security and Risk | Uber</td>\n    </tr>\n    <tr>\n      <th>760</th>\n      <td>Valdirene Alexandre da Silva</td>\n      <td>Analytics Security and Risk | Uber</td>\n    </tr>\n  </tbody>\n</table>\n</div>"
     },
     "metadata": {},
     "execution_count": 24
    }
   ],
   "source": [
    "df_sp[df_sp.duplicated(keep=False)]"
   ]
  },
  {
   "cell_type": "code",
   "execution_count": 25,
   "metadata": {},
   "outputs": [
    {
     "output_type": "execute_result",
     "data": {
      "text/plain": "False"
     },
     "metadata": {},
     "execution_count": 25
    }
   ],
   "source": [
    "df_sp = df_sp[df_sp['name'] != 'LinkedIn Member']\n",
    "df_sp.name.str.contains('LinkedIn Member').any()"
   ]
  },
  {
   "cell_type": "code",
   "execution_count": 26,
   "metadata": {},
   "outputs": [
    {
     "output_type": "execute_result",
     "data": {
      "text/plain": "                                                    name         \\\n                                                   count unique   \nposition                                                          \n--                                                     3      3   \n.                                                      3      3   \nA procura de novas oportunidades                       1      1   \nAR LATAM manager at UBER                               1      1   \nAberto a novas oportunidades e desafios.               1      1   \n...                                                  ...    ...   \ntecnico em desempenho at Inmetrics                     1      1   \nteste                                                  1      1   \nuniversidade uninove memoria                           1      1   \n| Aux. Juridico | Estudante de Direito | Uber*D...     1      1   \n|WebDesigner|Motorista|rh|assistente geral|auxi...     1      1   \n\n                                                                                    \\\n                                                                               top   \nposition                                                                             \n--                                                                   marcel giordo   \n.                                                                  Alan Nascimento   \nA procura de novas oportunidades                                    Rubens Tavares   \nAR LATAM manager at UBER                                     Eduardo Santos Araujo   \nAberto a novas oportunidades e desafios.            George Alexandre Souza Barbosa   \n...                                                                            ...   \ntecnico em desempenho at Inmetrics                                  David Ferreira   \nteste                                                              Raiane Oliveira   \nuniversidade uninove memoria                                      Diego cruz souza   \n| Aux. Juridico | Estudante de Direito | Uber*D...  Wellington Rodrigues Fernandes   \n|WebDesigner|Motorista|rh|assistente geral|auxi...      Joao Augusto De Souza Dias   \n\n                                                         \n                                                   freq  \nposition                                                 \n--                                                    1  \n.                                                     1  \nA procura de novas oportunidades                      1  \nAR LATAM manager at UBER                              1  \nAberto a novas oportunidades e desafios.              1  \n...                                                 ...  \ntecnico em desempenho at Inmetrics                    1  \nteste                                                 1  \nuniversidade uninove memoria                          1  \n| Aux. Juridico | Estudante de Direito | Uber*D...    1  \n|WebDesigner|Motorista|rh|assistente geral|auxi...    1  \n\n[854 rows x 4 columns]",
      "text/html": "<div>\n<style scoped>\n    .dataframe tbody tr th:only-of-type {\n        vertical-align: middle;\n    }\n\n    .dataframe tbody tr th {\n        vertical-align: top;\n    }\n\n    .dataframe thead tr th {\n        text-align: left;\n    }\n\n    .dataframe thead tr:last-of-type th {\n        text-align: right;\n    }\n</style>\n<table border=\"1\" class=\"dataframe\">\n  <thead>\n    <tr>\n      <th></th>\n      <th colspan=\"4\" halign=\"left\">name</th>\n    </tr>\n    <tr>\n      <th></th>\n      <th>count</th>\n      <th>unique</th>\n      <th>top</th>\n      <th>freq</th>\n    </tr>\n    <tr>\n      <th>position</th>\n      <th></th>\n      <th></th>\n      <th></th>\n      <th></th>\n    </tr>\n  </thead>\n  <tbody>\n    <tr>\n      <th>--</th>\n      <td>3</td>\n      <td>3</td>\n      <td>marcel giordo</td>\n      <td>1</td>\n    </tr>\n    <tr>\n      <th>.</th>\n      <td>3</td>\n      <td>3</td>\n      <td>Alan Nascimento</td>\n      <td>1</td>\n    </tr>\n    <tr>\n      <th>A procura de novas oportunidades</th>\n      <td>1</td>\n      <td>1</td>\n      <td>Rubens Tavares</td>\n      <td>1</td>\n    </tr>\n    <tr>\n      <th>AR LATAM manager at UBER</th>\n      <td>1</td>\n      <td>1</td>\n      <td>Eduardo Santos Araujo</td>\n      <td>1</td>\n    </tr>\n    <tr>\n      <th>Aberto a novas oportunidades e desafios.</th>\n      <td>1</td>\n      <td>1</td>\n      <td>George Alexandre Souza Barbosa</td>\n      <td>1</td>\n    </tr>\n    <tr>\n      <th>...</th>\n      <td>...</td>\n      <td>...</td>\n      <td>...</td>\n      <td>...</td>\n    </tr>\n    <tr>\n      <th>tecnico em desempenho at Inmetrics</th>\n      <td>1</td>\n      <td>1</td>\n      <td>David Ferreira</td>\n      <td>1</td>\n    </tr>\n    <tr>\n      <th>teste</th>\n      <td>1</td>\n      <td>1</td>\n      <td>Raiane Oliveira</td>\n      <td>1</td>\n    </tr>\n    <tr>\n      <th>universidade uninove memoria</th>\n      <td>1</td>\n      <td>1</td>\n      <td>Diego cruz souza</td>\n      <td>1</td>\n    </tr>\n    <tr>\n      <th>| Aux. Juridico | Estudante de Direito | Uber*Driver |</th>\n      <td>1</td>\n      <td>1</td>\n      <td>Wellington Rodrigues Fernandes</td>\n      <td>1</td>\n    </tr>\n    <tr>\n      <th>|WebDesigner|Motorista|rh|assistente geral|auxiliar administrativo|auxiliar de escritorio em geral|Departamento pessoal.</th>\n      <td>1</td>\n      <td>1</td>\n      <td>Joao Augusto De Souza Dias</td>\n      <td>1</td>\n    </tr>\n  </tbody>\n</table>\n<p>854 rows × 4 columns</p>\n</div>"
     },
     "metadata": {},
     "execution_count": 26
    }
   ],
   "source": [
    "df_sp.groupby('position').describe()"
   ]
  },
  {
   "cell_type": "code",
   "execution_count": 27,
   "metadata": {},
   "outputs": [
    {
     "output_type": "execute_result",
     "data": {
      "text/plain": "                                                   count\nposition                                                \nMotorista na Uber                                     23\nMotorista profissional na Uber                        14\nMotorista | Uber                                      11\nMotorista de automovel na Uber                        11\nSoftware Engineer at Uber                              6\n...                                                  ...\nEspecialista em Gestao de Seguranca Privada            1\nEspecialista em atendimento II na Uber                 1\nEspecialista em atendimento | Uber Eats                1\nEspecialista em qualidade | Uber                       1\n|WebDesigner|Motorista|rh|assistente geral|auxi...     1\n\n[854 rows x 1 columns]",
      "text/html": "<div>\n<style scoped>\n    .dataframe tbody tr th:only-of-type {\n        vertical-align: middle;\n    }\n\n    .dataframe tbody tr th {\n        vertical-align: top;\n    }\n\n    .dataframe thead th {\n        text-align: right;\n    }\n</style>\n<table border=\"1\" class=\"dataframe\">\n  <thead>\n    <tr style=\"text-align: right;\">\n      <th></th>\n      <th>count</th>\n    </tr>\n    <tr>\n      <th>position</th>\n      <th></th>\n    </tr>\n  </thead>\n  <tbody>\n    <tr>\n      <th>Motorista na Uber</th>\n      <td>23</td>\n    </tr>\n    <tr>\n      <th>Motorista profissional na Uber</th>\n      <td>14</td>\n    </tr>\n    <tr>\n      <th>Motorista | Uber</th>\n      <td>11</td>\n    </tr>\n    <tr>\n      <th>Motorista de automovel na Uber</th>\n      <td>11</td>\n    </tr>\n    <tr>\n      <th>Software Engineer at Uber</th>\n      <td>6</td>\n    </tr>\n    <tr>\n      <th>...</th>\n      <td>...</td>\n    </tr>\n    <tr>\n      <th>Especialista em Gestao de Seguranca Privada</th>\n      <td>1</td>\n    </tr>\n    <tr>\n      <th>Especialista em atendimento II na Uber</th>\n      <td>1</td>\n    </tr>\n    <tr>\n      <th>Especialista em atendimento | Uber Eats</th>\n      <td>1</td>\n    </tr>\n    <tr>\n      <th>Especialista em qualidade | Uber</th>\n      <td>1</td>\n    </tr>\n    <tr>\n      <th>|WebDesigner|Motorista|rh|assistente geral|auxiliar administrativo|auxiliar de escritorio em geral|Departamento pessoal.</th>\n      <td>1</td>\n    </tr>\n  </tbody>\n</table>\n<p>854 rows × 1 columns</p>\n</div>"
     },
     "metadata": {},
     "execution_count": 27
    }
   ],
   "source": [
    "# Group positions to see the most common\n",
    "df_position = df_sp.groupby('position').describe()['name'].sort_values(by='count', ascending=False).iloc[:, :1]\n",
    "df_position"
   ]
  },
  {
   "cell_type": "code",
   "execution_count": 28,
   "metadata": {},
   "outputs": [
    {
     "output_type": "execute_result",
     "data": {
      "text/plain": "                                name           position\ncount                            694                694\nunique                           691                571\ntop     Valdirene Alexandre da Silva  Motorista na Uber\nfreq                               2                 23",
      "text/html": "<div>\n<style scoped>\n    .dataframe tbody tr th:only-of-type {\n        vertical-align: middle;\n    }\n\n    .dataframe tbody tr th {\n        vertical-align: top;\n    }\n\n    .dataframe thead th {\n        text-align: right;\n    }\n</style>\n<table border=\"1\" class=\"dataframe\">\n  <thead>\n    <tr style=\"text-align: right;\">\n      <th></th>\n      <th>name</th>\n      <th>position</th>\n    </tr>\n  </thead>\n  <tbody>\n    <tr>\n      <th>count</th>\n      <td>694</td>\n      <td>694</td>\n    </tr>\n    <tr>\n      <th>unique</th>\n      <td>691</td>\n      <td>571</td>\n    </tr>\n    <tr>\n      <th>top</th>\n      <td>Valdirene Alexandre da Silva</td>\n      <td>Motorista na Uber</td>\n    </tr>\n    <tr>\n      <th>freq</th>\n      <td>2</td>\n      <td>23</td>\n    </tr>\n  </tbody>\n</table>\n</div>"
     },
     "metadata": {},
     "execution_count": 28
    }
   ],
   "source": [
    "# Removes all employees not currently working at Uber\n",
    "df_sp_uber = df_sp[df_sp['position'].str.contains('uber', case=False)]\n",
    "df_sp_uber.describe()"
   ]
  },
  {
   "cell_type": "code",
   "execution_count": 29,
   "metadata": {},
   "outputs": [
    {
     "output_type": "execute_result",
     "data": {
      "text/plain": "                      name                                           position\n561            Edson Spina  Motorista de automovel | Uber e motorista part...\n723  Anderson Leao Gimenes  Desenvolvedor Full Stack - Analista CRM - Moto...",
      "text/html": "<div>\n<style scoped>\n    .dataframe tbody tr th:only-of-type {\n        vertical-align: middle;\n    }\n\n    .dataframe tbody tr th {\n        vertical-align: top;\n    }\n\n    .dataframe thead th {\n        text-align: right;\n    }\n</style>\n<table border=\"1\" class=\"dataframe\">\n  <thead>\n    <tr style=\"text-align: right;\">\n      <th></th>\n      <th>name</th>\n      <th>position</th>\n    </tr>\n  </thead>\n  <tbody>\n    <tr>\n      <th>561</th>\n      <td>Edson Spina</td>\n      <td>Motorista de automovel | Uber e motorista part...</td>\n    </tr>\n    <tr>\n      <th>723</th>\n      <td>Anderson Leao Gimenes</td>\n      <td>Desenvolvedor Full Stack - Analista CRM - Moto...</td>\n    </tr>\n  </tbody>\n</table>\n</div>"
     },
     "metadata": {},
     "execution_count": 29
    }
   ],
   "source": [
    "# Removes all employees working at other Uber services\n",
    "ignore = 'uber air | uberair | freight | elevate | ex-uber | motorista'\n",
    "df_sp_uber[df_sp_uber['position'].str.contains(ignore, case=False)]"
   ]
  },
  {
   "cell_type": "code",
   "execution_count": 30,
   "metadata": {},
   "outputs": [
    {
     "output_type": "execute_result",
     "data": {
      "text/plain": "                    name           position\ncount                692                692\nunique               689                569\ntop     Beatriz Hercules  Motorista na Uber\nfreq                   2                 23",
      "text/html": "<div>\n<style scoped>\n    .dataframe tbody tr th:only-of-type {\n        vertical-align: middle;\n    }\n\n    .dataframe tbody tr th {\n        vertical-align: top;\n    }\n\n    .dataframe thead th {\n        text-align: right;\n    }\n</style>\n<table border=\"1\" class=\"dataframe\">\n  <thead>\n    <tr style=\"text-align: right;\">\n      <th></th>\n      <th>name</th>\n      <th>position</th>\n    </tr>\n  </thead>\n  <tbody>\n    <tr>\n      <th>count</th>\n      <td>692</td>\n      <td>692</td>\n    </tr>\n    <tr>\n      <th>unique</th>\n      <td>689</td>\n      <td>569</td>\n    </tr>\n    <tr>\n      <th>top</th>\n      <td>Beatriz Hercules</td>\n      <td>Motorista na Uber</td>\n    </tr>\n    <tr>\n      <th>freq</th>\n      <td>2</td>\n      <td>23</td>\n    </tr>\n  </tbody>\n</table>\n</div>"
     },
     "metadata": {},
     "execution_count": 30
    }
   ],
   "source": [
    "df_sp_final = df_sp_uber[~df_sp_uber['position'].str.contains(ignore, case=False)]\n",
    "df_sp_final.describe()"
   ]
  },
  {
   "cell_type": "code",
   "execution_count": 31,
   "metadata": {},
   "outputs": [
    {
     "output_type": "stream",
     "name": "stdout",
     "text": "Final Sao Paulo employee count: 692\n"
    }
   ],
   "source": [
    "print(f'Final Sao Paulo employee count: {len(df_sp_final)}')"
   ]
  }
 ],
 "metadata": {
  "kernelspec": {
   "display_name": "Python 3.7.7 64-bit ('venv': venv)",
   "language": "python",
   "name": "python37764bitvenvvenvca8a2f9805424851840045b53625d0bf"
  },
  "language_info": {
   "codemirror_mode": {
    "name": "ipython",
    "version": 3
   },
   "file_extension": ".py",
   "mimetype": "text/x-python",
   "name": "python",
   "nbconvert_exporter": "python",
   "pygments_lexer": "ipython3",
   "version": "3.7.7-final"
  }
 },
 "nbformat": 4,
 "nbformat_minor": 4
}