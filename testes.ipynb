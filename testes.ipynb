{
 "cells": [
  {
   "cell_type": "code",
   "execution_count": null,
   "metadata": {
    "collapsed": true,
    "jupyter": {
     "outputs_hidden": true
    },
    "pycharm": {
     "name": "#%%\n"
    }
   },
   "outputs": [],
   "source": [
    "names = []\n",
    "emails = []\n",
    "\n",
    "with open('emails_sf.json', mode='r', encoding='utf-8') as contacts_file:\n",
    "    for i, a_contact in enumerate(contacts_file):\n",
    "        if a_contact % 2 != 0:\n",
    "            names.append(a_contact.key)\n",
    "        emails.append(a_contact.split()[1])"
   ]
  },
  {
   "cell_type": "code",
   "execution_count": 17,
   "metadata": {},
   "outputs": [],
   "source": [
    "import requests\n",
    "from selenium import webdriver\n",
    "from selenium.webdriver.common.keys import Keys\n",
    "from lxml import html\n",
    "from IPython.core.display import HTML"
   ]
  },
  {
   "cell_type": "code",
   "execution_count": 8,
   "metadata": {},
   "outputs": [
    {
     "output_type": "stream",
     "name": "stderr",
     "text": "/home/rafael/Data Analysis/Projects/uber/venv/lib/python3.6/site-packages/ipykernel_launcher.py:11: DeprecationWarning: use options instead of chrome_options\n  # This is added back by InteractiveShellApp.init_path()\n"
    }
   ],
   "source": [
    "chrome_options = webdriver.ChromeOptions()\n",
    "chrome_options.add_argument(\"--start-maximized\")\n",
    "# chrome_options.add_argument('--no-sandbox')\n",
    "# chrome_options.add_argument('--headless')\n",
    "# chrome_options.add_argument('--window-size=1920x1080')\n",
    "# chrome_options.add_argument('--ignore-certificate-errors')\n",
    "# chrome_options.add_argument('--single-process')\n",
    "# chrome_options.add_argument(\"--disable-extensions\")\n",
    "# chrome_options.add_argument('--disable-dev-shm-usage')  \n",
    "# chrome_options.add_argument('--disable-gpu')\n",
    "driver = webdriver.Chrome(chrome_options=chrome_options)"
   ]
  },
  {
   "cell_type": "code",
   "execution_count": 9,
   "metadata": {},
   "outputs": [],
   "source": [
    "url = 'https://www.linkedin.com/'\n",
    "driver.get(url)"
   ]
  },
  {
   "cell_type": "code",
   "execution_count": 16,
   "metadata": {},
   "outputs": [],
   "source": [
    "username = 'rafaelcgama@gmail.com'\n",
    "password = '123Miuch@'"
   ]
  },
  {
   "cell_type": "code",
   "execution_count": 18,
   "metadata": {},
   "outputs": [],
   "source": [
    "# Logs in\n",
    "driver.find_element_by_xpath('.//input[@name=\"session_key\"]').clear()\n",
    "driver.find_element_by_xpath('.//input[@name=\"session_key\"]').send_keys(username)\n",
    "driver.find_element_by_xpath('.//input[@name=\"session_password\"]').clear()\n",
    "driver.find_element_by_xpath('.//input[@name=\"session_password\"]').send_keys(password)\n",
    "driver.find_element_by_xpath('.//button[@class=\"sign-in-form__submit-btn\"]').click()"
   ]
  },
  {
   "cell_type": "code",
   "execution_count": 19,
   "metadata": {},
   "outputs": [],
   "source": [
    "# Go to people search page\n",
    "driver.find_element_by_xpath('.//div[@id=\"global-nav-typeahead\"]').click()\n",
    "driver.find_element_by_xpath('.//li[@aria-label=\"Search for people\"]').click()"
   ]
  },
  {
   "cell_type": "code",
   "execution_count": 21,
   "metadata": {},
   "outputs": [],
   "source": []
  },
  {
   "cell_type": "code",
   "execution_count": null,
   "metadata": {},
   "outputs": [],
   "source": []
  },
  {
   "cell_type": "code",
   "execution_count": null,
   "metadata": {},
   "outputs": [],
   "source": []
  },
  {
   "cell_type": "code",
   "execution_count": null,
   "metadata": {},
   "outputs": [],
   "source": []
  },
  {
   "cell_type": "code",
   "execution_count": null,
   "metadata": {},
   "outputs": [],
   "source": []
  },
  {
   "cell_type": "code",
   "execution_count": null,
   "metadata": {},
   "outputs": [],
   "source": []
  },
  {
   "cell_type": "code",
   "execution_count": null,
   "metadata": {},
   "outputs": [],
   "source": []
  }
 ],
 "metadata": {
  "kernelspec": {
   "display_name": "Python 3.6.9 64-bit ('venv': venv)",
   "language": "python",
   "name": "python36964bitvenvvenv1a37510f5cf24ec884d181943e8ef26e"
  },
  "language_info": {
   "codemirror_mode": {
    "name": "ipython",
    "version": 3
   },
   "file_extension": ".py",
   "mimetype": "text/x-python",
   "name": "python",
   "nbconvert_exporter": "python",
   "pygments_lexer": "ipython3",
   "version": "3.6.9-final"
  },
  "pycharm": {
   "stem_cell": {
    "cell_type": "raw",
    "source": [],
    "metadata": {
     "collapsed": false
    }
   }
  }
 },
 "nbformat": 4,
 "nbformat_minor": 4
}